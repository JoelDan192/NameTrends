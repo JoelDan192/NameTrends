{
 "cells": [
  {
   "cell_type": "code",
   "execution_count": 11,
   "metadata": {
    "collapsed": true
   },
   "outputs": [],
   "source": [
    "#this is data about population names (males here)\n",
    "import pandas as pd\n",
    "import numpy as np\n",
    "import matplotlib.pyplot as plt\n",
    "%matplotlib inline\n",
    "import statsmodels.formula.api as smf\n",
    "import statsmodels.api as sm"
   ]
  },
  {
   "cell_type": "code",
   "execution_count": 13,
   "metadata": {
    "collapsed": false
   },
   "outputs": [
    {
     "data": {
      "text/html": [
       "<div>\n",
       "<table border=\"1\" class=\"dataframe\">\n",
       "  <thead>\n",
       "    <tr style=\"text-align: right;\">\n",
       "      <th></th>\n",
       "      <th>Total</th>\n",
       "      <th>1908</th>\n",
       "      <th>1909</th>\n",
       "      <th>1910</th>\n",
       "      <th>1911</th>\n",
       "      <th>1912</th>\n",
       "      <th>1913</th>\n",
       "      <th>1914</th>\n",
       "      <th>1915</th>\n",
       "      <th>1916</th>\n",
       "      <th>...</th>\n",
       "      <th>2005</th>\n",
       "      <th>2006</th>\n",
       "      <th>2007</th>\n",
       "      <th>2008</th>\n",
       "      <th>2009</th>\n",
       "      <th>2010</th>\n",
       "      <th>2011</th>\n",
       "      <th>2012</th>\n",
       "      <th>2013</th>\n",
       "      <th>2014</th>\n",
       "    </tr>\n",
       "    <tr>\n",
       "      <th>firstname</th>\n",
       "      <th></th>\n",
       "      <th></th>\n",
       "      <th></th>\n",
       "      <th></th>\n",
       "      <th></th>\n",
       "      <th></th>\n",
       "      <th></th>\n",
       "      <th></th>\n",
       "      <th></th>\n",
       "      <th></th>\n",
       "      <th></th>\n",
       "      <th></th>\n",
       "      <th></th>\n",
       "      <th></th>\n",
       "      <th></th>\n",
       "      <th></th>\n",
       "      <th></th>\n",
       "      <th></th>\n",
       "      <th></th>\n",
       "      <th></th>\n",
       "      <th></th>\n",
       "    </tr>\n",
       "  </thead>\n",
       "  <tbody>\n",
       "    <tr>\n",
       "      <th>Jean</th>\n",
       "      <td>14896</td>\n",
       "      <td>0</td>\n",
       "      <td>0</td>\n",
       "      <td>0</td>\n",
       "      <td>0</td>\n",
       "      <td>0</td>\n",
       "      <td>0</td>\n",
       "      <td>0</td>\n",
       "      <td>0</td>\n",
       "      <td>0</td>\n",
       "      <td>...</td>\n",
       "      <td>21</td>\n",
       "      <td>15</td>\n",
       "      <td>9</td>\n",
       "      <td>17</td>\n",
       "      <td>13</td>\n",
       "      <td>12</td>\n",
       "      <td>13</td>\n",
       "      <td>10</td>\n",
       "      <td>10</td>\n",
       "      <td>14</td>\n",
       "    </tr>\n",
       "    <tr>\n",
       "      <th>Michel</th>\n",
       "      <td>12123</td>\n",
       "      <td>0</td>\n",
       "      <td>0</td>\n",
       "      <td>0</td>\n",
       "      <td>0</td>\n",
       "      <td>0</td>\n",
       "      <td>0</td>\n",
       "      <td>0</td>\n",
       "      <td>0</td>\n",
       "      <td>0</td>\n",
       "      <td>...</td>\n",
       "      <td>5</td>\n",
       "      <td>8</td>\n",
       "      <td>5</td>\n",
       "      <td>6</td>\n",
       "      <td>6</td>\n",
       "      <td>0</td>\n",
       "      <td>6</td>\n",
       "      <td>0</td>\n",
       "      <td>3</td>\n",
       "      <td>3</td>\n",
       "    </tr>\n",
       "    <tr>\n",
       "      <th>Pierre</th>\n",
       "      <td>11910</td>\n",
       "      <td>0</td>\n",
       "      <td>0</td>\n",
       "      <td>0</td>\n",
       "      <td>0</td>\n",
       "      <td>0</td>\n",
       "      <td>0</td>\n",
       "      <td>0</td>\n",
       "      <td>0</td>\n",
       "      <td>3</td>\n",
       "      <td>...</td>\n",
       "      <td>25</td>\n",
       "      <td>14</td>\n",
       "      <td>13</td>\n",
       "      <td>12</td>\n",
       "      <td>14</td>\n",
       "      <td>11</td>\n",
       "      <td>7</td>\n",
       "      <td>8</td>\n",
       "      <td>14</td>\n",
       "      <td>18</td>\n",
       "    </tr>\n",
       "    <tr>\n",
       "      <th>Daniel</th>\n",
       "      <td>11842</td>\n",
       "      <td>0</td>\n",
       "      <td>0</td>\n",
       "      <td>0</td>\n",
       "      <td>0</td>\n",
       "      <td>0</td>\n",
       "      <td>0</td>\n",
       "      <td>0</td>\n",
       "      <td>0</td>\n",
       "      <td>0</td>\n",
       "      <td>...</td>\n",
       "      <td>53</td>\n",
       "      <td>48</td>\n",
       "      <td>53</td>\n",
       "      <td>62</td>\n",
       "      <td>61</td>\n",
       "      <td>38</td>\n",
       "      <td>55</td>\n",
       "      <td>49</td>\n",
       "      <td>39</td>\n",
       "      <td>42</td>\n",
       "    </tr>\n",
       "    <tr>\n",
       "      <th>David</th>\n",
       "      <td>10772</td>\n",
       "      <td>0</td>\n",
       "      <td>0</td>\n",
       "      <td>0</td>\n",
       "      <td>0</td>\n",
       "      <td>0</td>\n",
       "      <td>0</td>\n",
       "      <td>0</td>\n",
       "      <td>0</td>\n",
       "      <td>0</td>\n",
       "      <td>...</td>\n",
       "      <td>93</td>\n",
       "      <td>88</td>\n",
       "      <td>95</td>\n",
       "      <td>107</td>\n",
       "      <td>95</td>\n",
       "      <td>97</td>\n",
       "      <td>77</td>\n",
       "      <td>79</td>\n",
       "      <td>60</td>\n",
       "      <td>61</td>\n",
       "    </tr>\n",
       "  </tbody>\n",
       "</table>\n",
       "<p>5 rows × 108 columns</p>\n",
       "</div>"
      ],
      "text/plain": [
       "           Total  1908  1909  1910  1911  1912  1913  1914  1915  1916  ...   \\\n",
       "firstname                                                               ...    \n",
       "Jean       14896     0     0     0     0     0     0     0     0     0  ...    \n",
       "Michel     12123     0     0     0     0     0     0     0     0     0  ...    \n",
       "Pierre     11910     0     0     0     0     0     0     0     0     3  ...    \n",
       "Daniel     11842     0     0     0     0     0     0     0     0     0  ...    \n",
       "David      10772     0     0     0     0     0     0     0     0     0  ...    \n",
       "\n",
       "           2005  2006  2007  2008  2009  2010  2011  2012  2013  2014  \n",
       "firstname                                                              \n",
       "Jean         21    15     9    17    13    12    13    10    10    14  \n",
       "Michel        5     8     5     6     6     0     6     0     3     3  \n",
       "Pierre       25    14    13    12    14    11     7     8    14    18  \n",
       "Daniel       53    48    53    62    61    38    55    49    39    42  \n",
       "David        93    88    95   107    95    97    77    79    60    61  \n",
       "\n",
       "[5 rows x 108 columns]"
      ]
     },
     "execution_count": 13,
     "metadata": {},
     "output_type": "execute_result"
    }
   ],
   "source": [
    "#First a bit of cleaning, non-numeric types can be problematic later\n",
    "df=pd.read_csv('fem.csv')\n",
    "df = df.replace('*',0)\n",
    "df = df.rename(columns={cname: int(cname.strip('J_')) if 'J_' in cname else cname\n",
    "        for cname in df.columns})\n",
    "df = df.set_index('firstname')\n",
    "df = df.apply(lambda col:col.astype(int))\n",
    "df.head(5)"
   ]
  },
  {
   "cell_type": "code",
   "execution_count": 3,
   "metadata": {
    "collapsed": true
   },
   "outputs": [],
   "source": [
    "#PART 2: FIND WHICH NAMES ARE DISAPPEARING / GROWING TROUGHOUT THE CENTURY\n",
    "#proposition 1: find the regression coefficient for each name?"
   ]
  },
  {
   "cell_type": "markdown",
   "metadata": {},
   "source": [
    "### Check noise structure"
   ]
  },
  {
   "cell_type": "code",
   "execution_count": 4,
   "metadata": {
    "collapsed": true
   },
   "outputs": [],
   "source": [
    "## If you want to learn more about this: http://www.ats.ucla.edu/stat/r/dae/nbreg.htm"
   ]
  },
  {
   "cell_type": "code",
   "execution_count": 5,
   "metadata": {
    "collapsed": false
   },
   "outputs": [
    {
     "data": {
      "text/plain": [
       "<matplotlib.text.Text at 0x1ac7ec18>"
      ]
     },
     "execution_count": 5,
     "metadata": {},
     "output_type": "execute_result"
    },
    {
     "data": {
      "image/png": "[encoded data removed]",
      "text/plain": [
       "<matplotlib.figure.Figure at 0x1aec0d68>"
      ]
     },
     "metadata": {},
     "output_type": "display_data"
    }
   ],
   "source": [
    "byYear = pd.DataFrame({'mean':df.mean(axis=0)[1:],'var':df.var(axis=0)[1:]}).sort_values(by='mean')\n",
    "plt.plot(byYear['mean'],byYear['var'])\n",
    "plt.xlabel('mean')\n",
    "plt.ylabel('var')\n",
    "plt.title('Mean and variance by Year')"
   ]
  },
  {
   "cell_type": "markdown",
   "metadata": {},
   "source": [
    " ### Check shape (e.g. mean)"
   ]
  },
  {
   "cell_type": "code",
   "execution_count": 19,
   "metadata": {
    "collapsed": false
   },
   "outputs": [
    {
     "data": {
      "text/plain": [
       "[<matplotlib.lines.Line2D at 0x34f72ac8>]"
      ]
     },
     "execution_count": 19,
     "metadata": {},
     "output_type": "execute_result"
    },
    {
     "data": {
      "image/png": "[encoded data removed]",
      "text/plain": [
       "<matplotlib.figure.Figure at 0x1df039b0>"
      ]
     },
     "metadata": {},
     "output_type": "display_data"
    }
   ],
   "source": [
    "name = 'Jules'\n",
    "plt.plot(df.loc[name,:][1:].index.values, df.loc[name,:][1:])"
   ]
  },
  {
   "cell_type": "code",
   "execution_count": 7,
   "metadata": {
    "collapsed": false
   },
   "outputs": [
    {
     "data": {
      "text/plain": [
       "[<matplotlib.lines.Line2D at 0x1d6b62e8>]"
      ]
     },
     "execution_count": 7,
     "metadata": {},
     "output_type": "execute_result"
    },
    {
     "data": {
      "image/png": "[encoded data removed]",
      "text/plain": [
       "<matplotlib.figure.Figure at 0x1d458d30>"
      ]
     },
     "metadata": {},
     "output_type": "display_data"
    }
   ],
   "source": [
    "#Might be quadratic in a log-scale\n",
    "plt.plot(df.loc[name,:][1:].index.values,np.log(df.loc[name,:][1:]))"
   ]
  },
  {
   "cell_type": "markdown",
   "metadata": {},
   "source": [
    "# The Fit"
   ]
  },
  {
   "cell_type": "markdown",
   "metadata": {},
   "source": [
    "### For one person (defined above in variable name)"
   ]
  },
  {
   "cell_type": "code",
   "execution_count": 390,
   "metadata": {
    "collapsed": false
   },
   "outputs": [],
   "source": [
    "nameSeries = df.loc[name,:][1:]\n",
    "#First occurence of the name\n",
    "first_occ = nameSeries[nameSeries>0].index[0]\n",
    "last_occ = nameSeries[nameSeries>0].index[-1]\n",
    "nameSeries = nameSeries[nameSeries.index>=first_occ]\n",
    "nameSeries = nameSeries[nameSeries.index<=last_occ]"
   ]
  },
  {
   "cell_type": "code",
   "execution_count": 391,
   "metadata": {
    "collapsed": false
   },
   "outputs": [],
   "source": [
    "dataName = pd.DataFrame({'count': nameSeries.values.astype(int) + 1,\n",
    "     'year':nameSeries.index.values.astype(int),\n",
    "     'year2':np.power(nameSeries.index.values.astype(int),2)})"
   ]
  },
  {
   "cell_type": "code",
   "execution_count": 392,
   "metadata": {
    "collapsed": false
   },
   "outputs": [
    {
     "data": {
      "text/html": [
       "<table class=\"simpletable\">\n",
       "<caption>Generalized Linear Model Regression Results</caption>\n",
       "<tr>\n",
       "  <th>Dep. Variable:</th>        <td>count</td>      <th>  No. Observations:  </th>     <td>    85</td>    \n",
       "</tr>\n",
       "<tr>\n",
       "  <th>Model:</th>                 <td>GLM</td>       <th>  Df Residuals:      </th>     <td>    82</td>    \n",
       "</tr>\n",
       "<tr>\n",
       "  <th>Model Family:</th>   <td>NegativeBinomial</td> <th>  Df Model:          </th>     <td>     2</td>    \n",
       "</tr>\n",
       "<tr>\n",
       "  <th>Link Function:</th>         <td>log</td>       <th>  Scale:             </th> <td>0.145903577618</td>\n",
       "</tr>\n",
       "<tr>\n",
       "  <th>Method:</th>               <td>IRLS</td>       <th>  Log-Likelihood:    </th>    <td> -366.20</td>   \n",
       "</tr>\n",
       "<tr>\n",
       "  <th>Date:</th>           <td>Fri, 17 Jun 2016</td> <th>  Deviance:          </th>    <td>  10.553</td>   \n",
       "</tr>\n",
       "<tr>\n",
       "  <th>Time:</th>               <td>06:00:47</td>     <th>  Pearson chi2:      </th>     <td>  12.0</td>    \n",
       "</tr>\n",
       "<tr>\n",
       "  <th>No. Iterations:</th>        <td>10</td>        <th>                     </th>        <td> </td>      \n",
       "</tr>\n",
       "</table>\n",
       "<table class=\"simpletable\">\n",
       "<tr>\n",
       "      <td></td>         <th>coef</th>     <th>std err</th>      <th>z</th>      <th>P>|z|</th> <th>[95.0% Conf. Int.]</th> \n",
       "</tr>\n",
       "<tr>\n",
       "  <th>Intercept</th> <td>-6479.9112</td> <td>  321.623</td> <td>  -20.148</td> <td> 0.000</td> <td>-7110.280 -5849.543</td>\n",
       "</tr>\n",
       "<tr>\n",
       "  <th>year</th>      <td>    6.5505</td> <td>    0.326</td> <td>   20.090</td> <td> 0.000</td> <td>    5.911     7.190</td>\n",
       "</tr>\n",
       "<tr>\n",
       "  <th>year2</th>     <td>   -0.0017</td> <td> 8.26e-05</td> <td>  -20.021</td> <td> 0.000</td> <td>   -0.002    -0.001</td>\n",
       "</tr>\n",
       "</table>"
      ],
      "text/plain": [
       "<class 'statsmodels.iolib.summary.Summary'>\n",
       "\"\"\"\n",
       "                 Generalized Linear Model Regression Results                  \n",
       "==============================================================================\n",
       "Dep. Variable:                  count   No. Observations:                   85\n",
       "Model:                            GLM   Df Residuals:                       82\n",
       "Model Family:        NegativeBinomial   Df Model:                            2\n",
       "Link Function:                    log   Scale:                  0.145903577618\n",
       "Method:                          IRLS   Log-Likelihood:                -366.20\n",
       "Date:                Fri, 17 Jun 2016   Deviance:                       10.553\n",
       "Time:                        06:00:47   Pearson chi2:                     12.0\n",
       "No. Iterations:                    10                                         \n",
       "==============================================================================\n",
       "                 coef    std err          z      P>|z|      [95.0% Conf. Int.]\n",
       "------------------------------------------------------------------------------\n",
       "Intercept  -6479.9112    321.623    -20.148      0.000     -7110.280 -5849.543\n",
       "year           6.5505      0.326     20.090      0.000         5.911     7.190\n",
       "year2         -0.0017   8.26e-05    -20.021      0.000        -0.002    -0.001\n",
       "==============================================================================\n",
       "\"\"\""
      ]
     },
     "execution_count": 392,
     "metadata": {},
     "output_type": "execute_result"
    }
   ],
   "source": [
    "method = sm.families.NegativeBinomial(link=sm.families.links.log)\n",
    "mod = smf.glm('count~year+year2', data=dataName,\n",
    "                  family=method,).fit(method='bfgs',maxiter=100)\n",
    "mod.summary()"
   ]
  },
  {
   "cell_type": "code",
   "execution_count": 286,
   "metadata": {
    "collapsed": false
   },
   "outputs": [
    {
     "data": {
      "text/html": [
       "<div>\n",
       "<table border=\"1\" class=\"dataframe\">\n",
       "  <thead>\n",
       "    <tr style=\"text-align: right;\">\n",
       "      <th></th>\n",
       "      <th>name</th>\n",
       "      <th>year</th>\n",
       "      <th>year2</th>\n",
       "    </tr>\n",
       "  </thead>\n",
       "  <tbody>\n",
       "    <tr>\n",
       "      <th>0</th>\n",
       "      <td>Michael</td>\n",
       "      <td>6.550546</td>\n",
       "      <td>-0.001654</td>\n",
       "    </tr>\n",
       "  </tbody>\n",
       "</table>\n",
       "</div>"
      ],
      "text/plain": [
       "      name      year     year2\n",
       "0  Michael  6.550546 -0.001654"
      ]
     },
     "execution_count": 286,
     "metadata": {},
     "output_type": "execute_result"
    }
   ],
   "source": [
    "reg_cff = mod.params[mod.pvalues<=0.05][['year','year2']]\n",
    "pd.DataFrame({'name':[name],'year':[reg_cff.year],'year2':[reg_cff.year2]})"
   ]
  },
  {
   "cell_type": "markdown",
   "metadata": {},
   "source": [
    "## What names were popular recently?"
   ]
  },
  {
   "cell_type": "code",
   "execution_count": 15,
   "metadata": {
    "collapsed": false
   },
   "outputs": [],
   "source": [
    "from functools import partial\n",
    "\n",
    "def get_par_inf(recent,row):\n",
    "    \n",
    "    nameSeries = row[1:]\n",
    "    if recent:\n",
    "        first_occ = nameSeries[nameSeries>0].index[0]\n",
    "        nameSeries = nameSeries[nameSeries.index>=first_occ]\n",
    "    else:\n",
    "        last_occ = nameSeries[nameSeries>0].index[-1]\n",
    "        nameSeries = nameSeries[nameSeries.index<=last_occ]\n",
    "      \n",
    "    dataName = pd.DataFrame({'count': nameSeries.values.astype(int) + 1,\n",
    "     'year':nameSeries.index.values.astype(int),\n",
    "     'year2':np.power(nameSeries.index.values.astype(int),2)\n",
    "                            })\n",
    "    method = sm.families.NegativeBinomial(link=sm.families.links.log)\n",
    "    mod = smf.glm('count~year+year2', data=dataName,\n",
    "                  family=method,).fit(method='bfgs',maxiter=100)\n",
    "    reg_cff = mod.params[mod.pvalues<=0.05][['year','year2']]\n",
    "    return pd.Series([row.name,reg_cff.year,reg_cff.year2],index=['name','year','year2'])\n"
   ]
  },
  {
   "cell_type": "code",
   "execution_count": 21,
   "metadata": {
    "collapsed": false
   },
   "outputs": [
    {
     "data": {
      "image/png": "[encoded data removed]",
      "text/plain": [
       "<matplotlib.figure.Figure at 0x351d2a90>"
      ]
     },
     "metadata": {},
     "output_type": "display_data"
    }
   ],
   "source": [
    "import sys  \n",
    "reload(sys)  \n",
    "sys.setdefaultencoding('utf8')\n",
    "\n",
    "start = 70\n",
    "results_reg = df.apply(partial(get_par_inf,True),axis=1).reset_index(level=[0],drop=True)\n",
    "top_recent = results_reg.sort_values(by=['year','year2'],ascending=[False,False]).head(7)\n",
    "\n",
    "for i,nm in enumerate(top_recent['name'].values):\n",
    "    plt.plot(df.loc[nm,:][start:].index.values, df.loc[nm,:][start:].values, label='%s-%d'%(nm,i+1))\n",
    "plt.legend(loc='best')"
   ]
  },
  {
   "cell_type": "markdown",
   "metadata": {},
   "source": [
    "## Which names are disappearing?"
   ]
  },
  {
   "cell_type": "code",
   "execution_count": 22,
   "metadata": {
    "collapsed": false
   },
   "outputs": [
    {
     "data": {
      "text/plain": [
       "<matplotlib.legend.Legend at 0x34b7a438>"
      ]
     },
     "execution_count": 22,
     "metadata": {},
     "output_type": "execute_result"
    },
    {
     "data": {
      "image/png": "[encoded data removed]",
      "text/plain": [
       "<matplotlib.figure.Figure at 0x34b7a470>"
      ]
     },
     "metadata": {},
     "output_type": "display_data"
    }
   ],
   "source": [
    "results_reg = df.apply(partial(get_par_inf,False),axis=1).reset_index(level=[0],drop=True)\n",
    "top_old = results_reg.sort_values(by=['year','year2'],ascending=[False,False]).head(7)\n",
    "\n",
    "for i,nm in enumerate(top_old['name'].values):\n",
    "    plt.plot(df.loc[nm,:][40:].index.values, df.loc[nm,:][40:].values, label='%s-%d'%(nm,i+1))\n",
    "plt.legend(loc='best')"
   ]
  },
  {
   "cell_type": "markdown",
   "metadata": {
    "collapsed": true
   },
   "source": [
    "## Benchmark (bfs.admin.ch)"
   ]
  },
  {
   "cell_type": "code",
   "execution_count": 14,
   "metadata": {
    "collapsed": true
   },
   "outputs": [],
   "source": [
    "top_bfs = ['David','Nicolas','Alexandre','Julien']"
   ]
  },
  {
   "cell_type": "code",
   "execution_count": null,
   "metadata": {
    "collapsed": true
   },
   "outputs": [],
   "source": []
  }
 ],
 "metadata": {
  "kernelspec": {
   "display_name": "Python 2",
   "language": "python",
   "name": "python2"
  },
  "language_info": {
   "codemirror_mode": {
    "name": "ipython",
    "version": 2
   },
   "file_extension": ".py",
   "mimetype": "text/x-python",
   "name": "python",
   "nbconvert_exporter": "python",
   "pygments_lexer": "ipython2",
   "version": "2.7.11"
  }
 },
 "nbformat": 4,
 "nbformat_minor": 0
}
